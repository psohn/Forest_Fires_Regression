{
 "cells": [
  {
   "cell_type": "markdown",
   "metadata": {},
   "source": [
    "## Artificial Neural Network\n",
    "\n",
    "Artificial neural networks (ANN) can extract meaning from features that we would not have discovered ourselves. A lot of times, a simpler regression technique such as linear regression performs better. However, as we have spatial data which is not well modelled by a linear regression, we will build an ANN to try to model forest fire damage. First we import the data."
   ]
  },
  {
   "cell_type": "code",
   "execution_count": 10,
   "metadata": {},
   "outputs": [],
   "source": [
    "### importing libraries ###\n",
    "\n",
    "import pandas as pd\n",
    "import keras\n",
    "from keras.models import Sequential\n",
    "from keras.layers import Dense, Dropout\n",
    "import matplotlib.pyplot as plt\n",
    "from sklearn.metrics import r2_score"
   ]
  },
  {
   "cell_type": "code",
   "execution_count": 2,
   "metadata": {},
   "outputs": [],
   "source": [
    "### importing data ###\n",
    "\n",
    "# features\n",
    "features_train = pd.read_csv('data/features_train.csv', index_col = 0)\n",
    "features_test = pd.read_csv('data/features_test.csv', index_col = 0)\n",
    "\n",
    "# target\n",
    "target_train = pd.read_csv('data/target_train.csv', index_col = 0)\n",
    "target_test = pd.read_csv('data/target_test.csv', index_col = 0)"
   ]
  },
  {
   "cell_type": "markdown",
   "metadata": {},
   "source": [
    "Now we will build our ANN."
   ]
  },
  {
   "cell_type": "code",
   "execution_count": 3,
   "metadata": {},
   "outputs": [],
   "source": [
    "### building ANN ###\n",
    "\n",
    "def ann():\n",
    "    classifier = Sequential()\n",
    "    \n",
    "    classifier.add(Dense(6, activation = 'relu', input_dim = 12))\n",
    "    classifier.add(Dense(6, activation = 'relu'))\n",
    "    classifier.add(Dense(6, activation = 'relu'))\n",
    "    \n",
    "    classifier.add(Dropout(0.2))\n",
    "    \n",
    "    classifier.add(Dense(1, activation = 'relu'))\n",
    "    \n",
    "    classifier.compile(optimizer = 'adam', loss = 'mse')\n",
    "    \n",
    "    return classifier"
   ]
  },
  {
   "cell_type": "code",
   "execution_count": 4,
   "metadata": {},
   "outputs": [
    {
     "name": "stdout",
     "output_type": "stream",
     "text": [
      "Train on 258 samples, validate on 259 samples\n",
      "Epoch 1/100\n",
      "258/258 [==============================] - 1s 4ms/step - loss: 1.1340 - val_loss: 1.0296\n",
      "Epoch 2/100\n",
      "258/258 [==============================] - 0s 1ms/step - loss: 1.0769 - val_loss: 1.0225\n",
      "Epoch 3/100\n",
      "258/258 [==============================] - 0s 1ms/step - loss: 1.0515 - val_loss: 1.0207\n",
      "Epoch 4/100\n",
      "258/258 [==============================] - 0s 957us/step - loss: 1.0157 - val_loss: 1.0187\n",
      "Epoch 5/100\n",
      "258/258 [==============================] - 0s 972us/step - loss: 1.0126 - val_loss: 1.0167\n",
      "Epoch 6/100\n",
      "258/258 [==============================] - 0s 1ms/step - loss: 1.0145 - val_loss: 1.0150\n",
      "Epoch 7/100\n",
      "258/258 [==============================] - 0s 1ms/step - loss: 1.0003 - val_loss: 1.0143\n",
      "Epoch 8/100\n",
      "258/258 [==============================] - 0s 1ms/step - loss: 1.0084 - val_loss: 1.0144\n",
      "Epoch 9/100\n",
      "258/258 [==============================] - 0s 1ms/step - loss: 1.0047 - val_loss: 1.0144\n",
      "Epoch 10/100\n",
      "258/258 [==============================] - 0s 953us/step - loss: 1.0058 - val_loss: 1.0144\n",
      "Epoch 11/100\n",
      "258/258 [==============================] - 0s 1ms/step - loss: 1.0039 - val_loss: 1.0146\n",
      "Epoch 12/100\n",
      "258/258 [==============================] - 0s 1ms/step - loss: 1.0125 - val_loss: 1.0146\n",
      "Epoch 13/100\n",
      "258/258 [==============================] - 0s 1ms/step - loss: 1.0031 - val_loss: 1.0140\n",
      "Epoch 14/100\n",
      "258/258 [==============================] - 0s 1ms/step - loss: 1.0090 - val_loss: 1.0147\n",
      "Epoch 15/100\n",
      "258/258 [==============================] - 0s 1ms/step - loss: 0.9972 - val_loss: 1.0152\n",
      "Epoch 16/100\n",
      "258/258 [==============================] - 0s 1ms/step - loss: 0.9996 - val_loss: 1.0156\n",
      "Epoch 17/100\n",
      "258/258 [==============================] - 0s 1ms/step - loss: 0.9997 - val_loss: 1.0161\n",
      "Epoch 18/100\n",
      "258/258 [==============================] - 0s 1ms/step - loss: 1.0018 - val_loss: 1.0168\n",
      "Epoch 19/100\n",
      "258/258 [==============================] - 0s 1ms/step - loss: 0.9989 - val_loss: 1.0160\n",
      "Epoch 20/100\n",
      "258/258 [==============================] - 0s 1ms/step - loss: 1.0032 - val_loss: 1.0173\n",
      "Epoch 21/100\n",
      "258/258 [==============================] - 0s 1ms/step - loss: 1.0021 - val_loss: 1.0178\n",
      "Epoch 22/100\n",
      "258/258 [==============================] - 0s 1ms/step - loss: 0.9979 - val_loss: 1.0185\n",
      "Epoch 23/100\n",
      "258/258 [==============================] - 0s 1ms/step - loss: 1.0082 - val_loss: 1.0165\n",
      "Epoch 24/100\n",
      "258/258 [==============================] - 0s 1ms/step - loss: 0.9972 - val_loss: 1.0168\n",
      "Epoch 25/100\n",
      "258/258 [==============================] - 0s 1ms/step - loss: 0.9982 - val_loss: 1.0183\n",
      "Epoch 26/100\n",
      "258/258 [==============================] - 0s 1ms/step - loss: 0.9938 - val_loss: 1.0204\n",
      "Epoch 27/100\n",
      "258/258 [==============================] - 0s 1ms/step - loss: 0.9971 - val_loss: 1.0206\n",
      "Epoch 28/100\n",
      "258/258 [==============================] - 0s 986us/step - loss: 1.0036 - val_loss: 1.0193\n",
      "Epoch 29/100\n",
      "258/258 [==============================] - 0s 1ms/step - loss: 1.0060 - val_loss: 1.0202\n",
      "Epoch 30/100\n",
      "258/258 [==============================] - 0s 1ms/step - loss: 0.9995 - val_loss: 1.0195\n",
      "Epoch 31/100\n",
      "258/258 [==============================] - 0s 1ms/step - loss: 0.9968 - val_loss: 1.0221\n",
      "Epoch 32/100\n",
      "258/258 [==============================] - 0s 1ms/step - loss: 0.9984 - val_loss: 1.0226\n",
      "Epoch 33/100\n",
      "258/258 [==============================] - 0s 1ms/step - loss: 0.9950 - val_loss: 1.0222\n",
      "Epoch 34/100\n",
      "258/258 [==============================] - 0s 964us/step - loss: 0.9941 - val_loss: 1.0221\n",
      "Epoch 35/100\n",
      "258/258 [==============================] - 0s 986us/step - loss: 0.9963 - val_loss: 1.0234\n",
      "Epoch 36/100\n",
      "258/258 [==============================] - 0s 970us/step - loss: 0.9916 - val_loss: 1.0250\n",
      "Epoch 37/100\n",
      "258/258 [==============================] - 0s 981us/step - loss: 0.9990 - val_loss: 1.0259\n",
      "Epoch 38/100\n",
      "258/258 [==============================] - 0s 982us/step - loss: 1.0027 - val_loss: 1.0244\n",
      "Epoch 39/100\n",
      "258/258 [==============================] - 0s 1ms/step - loss: 1.0014 - val_loss: 1.0227\n",
      "Epoch 40/100\n",
      "258/258 [==============================] - 0s 1ms/step - loss: 0.9960 - val_loss: 1.0227\n",
      "Epoch 41/100\n",
      "258/258 [==============================] - 0s 1ms/step - loss: 0.9959 - val_loss: 1.0242\n",
      "Epoch 42/100\n",
      "258/258 [==============================] - 0s 1ms/step - loss: 0.9951 - val_loss: 1.0269\n",
      "Epoch 43/100\n",
      "258/258 [==============================] - 0s 1ms/step - loss: 0.9959 - val_loss: 1.0266\n",
      "Epoch 44/100\n",
      "258/258 [==============================] - 0s 1ms/step - loss: 0.9939 - val_loss: 1.0258\n",
      "Epoch 45/100\n",
      "258/258 [==============================] - 0s 1ms/step - loss: 0.9936 - val_loss: 1.0263\n",
      "Epoch 46/100\n",
      "258/258 [==============================] - 0s 1ms/step - loss: 0.9948 - val_loss: 1.0249\n",
      "Epoch 47/100\n",
      "258/258 [==============================] - 0s 1ms/step - loss: 0.9914 - val_loss: 1.0279\n",
      "Epoch 48/100\n",
      "258/258 [==============================] - 0s 982us/step - loss: 0.9941 - val_loss: 1.0263\n",
      "Epoch 49/100\n",
      "258/258 [==============================] - 0s 1ms/step - loss: 0.9928 - val_loss: 1.0264\n",
      "Epoch 50/100\n",
      "258/258 [==============================] - 0s 1ms/step - loss: 0.9968 - val_loss: 1.0263\n",
      "Epoch 51/100\n",
      "258/258 [==============================] - 0s 1ms/step - loss: 0.9857 - val_loss: 1.0277\n",
      "Epoch 52/100\n",
      "258/258 [==============================] - 0s 1ms/step - loss: 0.9903 - val_loss: 1.0274\n",
      "Epoch 53/100\n",
      "258/258 [==============================] - 0s 1ms/step - loss: 0.9958 - val_loss: 1.0285\n",
      "Epoch 54/100\n",
      "258/258 [==============================] - 0s 866us/step - loss: 0.9988 - val_loss: 1.0283\n",
      "Epoch 55/100\n",
      "258/258 [==============================] - 0s 874us/step - loss: 0.9970 - val_loss: 1.0267\n",
      "Epoch 56/100\n",
      "258/258 [==============================] - 0s 969us/step - loss: 0.9855 - val_loss: 1.0292\n",
      "Epoch 57/100\n",
      "258/258 [==============================] - 0s 1ms/step - loss: 0.9962 - val_loss: 1.0286\n",
      "Epoch 58/100\n",
      "258/258 [==============================] - 0s 1ms/step - loss: 0.9848 - val_loss: 1.0297\n",
      "Epoch 59/100\n",
      "258/258 [==============================] - 0s 1ms/step - loss: 0.9932 - val_loss: 1.0291\n",
      "Epoch 60/100\n",
      "258/258 [==============================] - 0s 1ms/step - loss: 0.9839 - val_loss: 1.0307\n",
      "Epoch 61/100\n",
      "258/258 [==============================] - 0s 970us/step - loss: 0.9949 - val_loss: 1.0297\n",
      "Epoch 62/100\n",
      "258/258 [==============================] - 0s 935us/step - loss: 0.9851 - val_loss: 1.0321\n",
      "Epoch 63/100\n",
      "258/258 [==============================] - 0s 1ms/step - loss: 0.9827 - val_loss: 1.0336\n",
      "Epoch 64/100\n",
      "258/258 [==============================] - 0s 1ms/step - loss: 0.9899 - val_loss: 1.0334\n",
      "Epoch 65/100\n",
      "258/258 [==============================] - 0s 955us/step - loss: 0.9888 - val_loss: 1.0312\n",
      "Epoch 66/100\n",
      "258/258 [==============================] - 0s 928us/step - loss: 0.9944 - val_loss: 1.0324\n",
      "Epoch 67/100\n",
      "258/258 [==============================] - 0s 924us/step - loss: 0.9843 - val_loss: 1.0366\n",
      "Epoch 68/100\n",
      "258/258 [==============================] - 0s 942us/step - loss: 0.9852 - val_loss: 1.0394\n",
      "Epoch 69/100\n",
      "258/258 [==============================] - 0s 974us/step - loss: 0.9853 - val_loss: 1.0374\n",
      "Epoch 70/100\n",
      "258/258 [==============================] - 0s 1ms/step - loss: 0.9899 - val_loss: 1.0374\n",
      "Epoch 71/100\n",
      "258/258 [==============================] - 0s 1ms/step - loss: 0.9818 - val_loss: 1.0391\n",
      "Epoch 72/100\n",
      "258/258 [==============================] - 0s 1ms/step - loss: 0.9818 - val_loss: 1.0432\n",
      "Epoch 73/100\n",
      "258/258 [==============================] - 0s 1ms/step - loss: 0.9860 - val_loss: 1.0482\n",
      "Epoch 74/100\n",
      "258/258 [==============================] - 0s 1ms/step - loss: 0.9890 - val_loss: 1.0431\n",
      "Epoch 75/100\n",
      "258/258 [==============================] - 0s 1ms/step - loss: 0.9808 - val_loss: 1.0438\n",
      "Epoch 76/100\n",
      "258/258 [==============================] - 0s 1ms/step - loss: 1.0052 - val_loss: 1.0382\n",
      "Epoch 77/100\n",
      "258/258 [==============================] - 0s 997us/step - loss: 0.9852 - val_loss: 1.0424\n",
      "Epoch 78/100\n",
      "258/258 [==============================] - 0s 1ms/step - loss: 0.9859 - val_loss: 1.0454\n",
      "Epoch 79/100\n",
      "258/258 [==============================] - 0s 1ms/step - loss: 0.9867 - val_loss: 1.0444\n",
      "Epoch 80/100\n"
     ]
    },
    {
     "name": "stdout",
     "output_type": "stream",
     "text": [
      "258/258 [==============================] - 0s 987us/step - loss: 0.9877 - val_loss: 1.0450\n",
      "Epoch 81/100\n",
      "258/258 [==============================] - 0s 1ms/step - loss: 0.9821 - val_loss: 1.0487\n",
      "Epoch 82/100\n",
      "258/258 [==============================] - 0s 1ms/step - loss: 0.9768 - val_loss: 1.0522\n",
      "Epoch 83/100\n",
      "258/258 [==============================] - 0s 1ms/step - loss: 0.9762 - val_loss: 1.0537\n",
      "Epoch 84/100\n",
      "258/258 [==============================] - 0s 1ms/step - loss: 0.9847 - val_loss: 1.0536\n",
      "Epoch 85/100\n",
      "258/258 [==============================] - 0s 1ms/step - loss: 0.9782 - val_loss: 1.0608\n",
      "Epoch 86/100\n",
      "258/258 [==============================] - 0s 1ms/step - loss: 0.9923 - val_loss: 1.0563\n",
      "Epoch 87/100\n",
      "258/258 [==============================] - 0s 1ms/step - loss: 0.9835 - val_loss: 1.0530\n",
      "Epoch 88/100\n",
      "258/258 [==============================] - 0s 982us/step - loss: 0.9819 - val_loss: 1.0571\n",
      "Epoch 89/100\n",
      "258/258 [==============================] - 0s 1ms/step - loss: 0.9743 - val_loss: 1.0558\n",
      "Epoch 90/100\n",
      "258/258 [==============================] - 0s 1ms/step - loss: 0.9725 - val_loss: 1.0588\n",
      "Epoch 91/100\n",
      "258/258 [==============================] - 0s 1ms/step - loss: 0.9822 - val_loss: 1.0598\n",
      "Epoch 92/100\n",
      "258/258 [==============================] - 0s 1ms/step - loss: 0.9708 - val_loss: 1.0701\n",
      "Epoch 93/100\n",
      "258/258 [==============================] - 0s 1ms/step - loss: 0.9825 - val_loss: 1.0667\n",
      "Epoch 94/100\n",
      "258/258 [==============================] - 0s 990us/step - loss: 0.9793 - val_loss: 1.0730\n",
      "Epoch 95/100\n",
      "258/258 [==============================] - 0s 981us/step - loss: 0.9762 - val_loss: 1.0659\n",
      "Epoch 96/100\n",
      "258/258 [==============================] - 0s 1ms/step - loss: 0.9670 - val_loss: 1.0703\n",
      "Epoch 97/100\n",
      "258/258 [==============================] - 0s 1ms/step - loss: 0.9750 - val_loss: 1.0830\n",
      "Epoch 98/100\n",
      "258/258 [==============================] - 0s 1ms/step - loss: 0.9856 - val_loss: 1.0721\n",
      "Epoch 99/100\n",
      "258/258 [==============================] - 0s 1ms/step - loss: 0.9732 - val_loss: 1.0681\n",
      "Epoch 100/100\n",
      "258/258 [==============================] - 0s 1ms/step - loss: 0.9795 - val_loss: 1.0777\n"
     ]
    }
   ],
   "source": [
    "### ANN model ###\n",
    "\n",
    "# fitting model\n",
    "model = ann()\n",
    "history = model.fit(features_train, target_train, validation_data = (features_test, target_test), \n",
    "                    batch_size = 10, epochs = 100)"
   ]
  },
  {
   "cell_type": "markdown",
   "metadata": {},
   "source": [
    "Now we will plot our model loss."
   ]
  },
  {
   "cell_type": "code",
   "execution_count": 5,
   "metadata": {},
   "outputs": [
    {
     "data": {
      "text/plain": [
       "<matplotlib.legend.Legend at 0x1d18beec0c8>"
      ]
     },
     "execution_count": 5,
     "metadata": {},
     "output_type": "execute_result"
    },
    {
     "data": {
      "image/png": "[encoded data removed]",
      "text/plain": [
       "<Figure size 432x288 with 1 Axes>"
      ]
     },
     "metadata": {
      "needs_background": "light"
     },
     "output_type": "display_data"
    }
   ],
   "source": [
    "### plotting loss ###\n",
    "\n",
    "plt.plot(history.history['loss'])\n",
    "plt.plot(history.history['val_loss'])\n",
    "plt.title('Model Loss')\n",
    "plt.xlabel('Epochs')\n",
    "plt.ylabel('Loss')\n",
    "plt.legend(['Train', 'Test'], loc = 'upper left')"
   ]
  },
  {
   "cell_type": "markdown",
   "metadata": {},
   "source": [
    "It seems that about 10 epochs is when the ANN starts to overtrain. We will now retrain the model to use only 10 epochs."
   ]
  },
  {
   "cell_type": "code",
   "execution_count": 6,
   "metadata": {},
   "outputs": [
    {
     "name": "stdout",
     "output_type": "stream",
     "text": [
      "Train on 258 samples, validate on 259 samples\n",
      "Epoch 1/10\n",
      "258/258 [==============================] - 1s 2ms/step - loss: 1.0073 - val_loss: 0.9886\n",
      "Epoch 2/10\n",
      "258/258 [==============================] - 0s 916us/step - loss: 0.9980 - val_loss: 0.9896\n",
      "Epoch 3/10\n",
      "258/258 [==============================] - 0s 1ms/step - loss: 0.9874 - val_loss: 0.9897\n",
      "Epoch 4/10\n",
      "258/258 [==============================] - 0s 1ms/step - loss: 0.9915 - val_loss: 0.9896\n",
      "Epoch 5/10\n",
      "258/258 [==============================] - 0s 1ms/step - loss: 0.9948 - val_loss: 0.9894\n",
      "Epoch 6/10\n",
      "258/258 [==============================] - 0s 1ms/step - loss: 0.9878 - val_loss: 0.9880\n",
      "Epoch 7/10\n",
      "258/258 [==============================] - 0s 1ms/step - loss: 0.9966 - val_loss: 0.9884\n",
      "Epoch 8/10\n",
      "258/258 [==============================] - 0s 2ms/step - loss: 0.9827 - val_loss: 0.9879\n",
      "Epoch 9/10\n",
      "258/258 [==============================] - 0s 2ms/step - loss: 0.9882 - val_loss: 0.9880\n",
      "Epoch 10/10\n",
      "258/258 [==============================] - 0s 1ms/step - loss: 0.9828 - val_loss: 0.9877\n"
     ]
    },
    {
     "data": {
      "text/plain": [
       "<keras.callbacks.callbacks.History at 0x1d1936bec08>"
      ]
     },
     "execution_count": 6,
     "metadata": {},
     "output_type": "execute_result"
    }
   ],
   "source": [
    "### ANN model ###\n",
    "\n",
    "# fitting model\n",
    "model = ann()\n",
    "model.fit(features_train, target_train, validation_data = (features_test, target_test), \n",
    "                    batch_size = 10, epochs = 10)"
   ]
  },
  {
   "cell_type": "code",
   "execution_count": 11,
   "metadata": {},
   "outputs": [
    {
     "name": "stdout",
     "output_type": "stream",
     "text": [
      "RMSE is: 0.9938309715439543 and the r2 is: 0.012276528125084396\n"
     ]
    }
   ],
   "source": [
    "### rmse ###\n",
    "\n",
    "# prediction\n",
    "pred = model.predict(features_test)\n",
    "\n",
    "print('RMSE is:', 0.9877 ** 0.5, 'and the r2 is:', r2_score(target_test, pred))"
   ]
  },
  {
   "cell_type": "markdown",
   "metadata": {},
   "source": [
    "We were able to improve our RMSE. However, the values are still not great."
   ]
  },
  {
   "cell_type": "markdown",
   "metadata": {},
   "source": [
    "## Conclusion\n",
    "ANNs are not a great way to model forest fire damage.\n",
    "* r2 = 0.0122\n",
    "* RMSE = 0.9938"
   ]
  }
 ],
 "metadata": {
  "kernelspec": {
   "display_name": "Python 3",
   "language": "python",
   "name": "python3"
  },
  "language_info": {
   "codemirror_mode": {
    "name": "ipython",
    "version": 3
   },
   "file_extension": ".py",
   "mimetype": "text/x-python",
   "name": "python",
   "nbconvert_exporter": "python",
   "pygments_lexer": "ipython3",
   "version": "3.7.4"
  }
 },
 "nbformat": 4,
 "nbformat_minor": 4
}
