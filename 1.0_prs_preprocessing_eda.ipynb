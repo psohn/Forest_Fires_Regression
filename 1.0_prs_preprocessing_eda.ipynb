{
 "cells": [
  {
   "cell_type": "markdown",
   "metadata": {},
   "source": [
    "![australian forest fire](https://www.commondreams.org/sites/default/files/styles/cd_large/public/headlines/aus.fires_.png?itok=sUktsMGH)"
   ]
  },
  {
   "cell_type": "markdown",
   "metadata": {},
   "source": [
    "## Introduction\n",
    "\n",
    "Forest fires have been a large problem throughout history but they have been particularly devastating in the past couple of years. Australia in particular has faced an unprecedented amount of forest fires over the past couple of months. When combatting forest fires, the ability to predict when, where, and how large the fire will be can be crucial information. Using machine learning techniques, we will try to predict the magnitude of forest fires using forest fire data of a national park in Portugal."
   ]
  },
  {
   "cell_type": "markdown",
   "metadata": {},
   "source": [
    "## Preprocessing and Exploratory Data Analysis\n",
    "\n",
    "In order to explore and model our data, we must first import it."
   ]
  },
  {
   "cell_type": "code",
   "execution_count": 1,
   "metadata": {},
   "outputs": [],
   "source": [
    "### importing libraries ###\n",
    "\n",
    "import pandas as pd\n",
    "import seaborn as sns\n",
    "import matplotlib.pyplot as plt\n",
    "import numpy as np\n",
    "from sklearn.model_selection import train_test_split\n",
    "from sklearn.preprocessing import StandardScaler"
   ]
  },
  {
   "cell_type": "code",
   "execution_count": 2,
   "metadata": {},
   "outputs": [
    {
     "data": {
      "text/html": [
       "<div>\n",
       "<style scoped>\n",
       "    .dataframe tbody tr th:only-of-type {\n",
       "        vertical-align: middle;\n",
       "    }\n",
       "\n",
       "    .dataframe tbody tr th {\n",
       "        vertical-align: top;\n",
       "    }\n",
       "\n",
       "    .dataframe thead th {\n",
       "        text-align: right;\n",
       "    }\n",
       "</style>\n",
       "<table border=\"1\" class=\"dataframe\">\n",
       "  <thead>\n",
       "    <tr style=\"text-align: right;\">\n",
       "      <th></th>\n",
       "      <th>X</th>\n",
       "      <th>Y</th>\n",
       "      <th>month</th>\n",
       "      <th>day</th>\n",
       "      <th>FFMC</th>\n",
       "      <th>DMC</th>\n",
       "      <th>DC</th>\n",
       "      <th>ISI</th>\n",
       "      <th>temp</th>\n",
       "      <th>RH</th>\n",
       "      <th>wind</th>\n",
       "      <th>rain</th>\n",
       "      <th>area</th>\n",
       "    </tr>\n",
       "  </thead>\n",
       "  <tbody>\n",
       "    <tr>\n",
       "      <th>0</th>\n",
       "      <td>7</td>\n",
       "      <td>5</td>\n",
       "      <td>mar</td>\n",
       "      <td>fri</td>\n",
       "      <td>86.2</td>\n",
       "      <td>26.2</td>\n",
       "      <td>94.3</td>\n",
       "      <td>5.1</td>\n",
       "      <td>8.2</td>\n",
       "      <td>51</td>\n",
       "      <td>6.7</td>\n",
       "      <td>0.0</td>\n",
       "      <td>0.0</td>\n",
       "    </tr>\n",
       "    <tr>\n",
       "      <th>1</th>\n",
       "      <td>7</td>\n",
       "      <td>4</td>\n",
       "      <td>oct</td>\n",
       "      <td>tue</td>\n",
       "      <td>90.6</td>\n",
       "      <td>35.4</td>\n",
       "      <td>669.1</td>\n",
       "      <td>6.7</td>\n",
       "      <td>18.0</td>\n",
       "      <td>33</td>\n",
       "      <td>0.9</td>\n",
       "      <td>0.0</td>\n",
       "      <td>0.0</td>\n",
       "    </tr>\n",
       "    <tr>\n",
       "      <th>2</th>\n",
       "      <td>7</td>\n",
       "      <td>4</td>\n",
       "      <td>oct</td>\n",
       "      <td>sat</td>\n",
       "      <td>90.6</td>\n",
       "      <td>43.7</td>\n",
       "      <td>686.9</td>\n",
       "      <td>6.7</td>\n",
       "      <td>14.6</td>\n",
       "      <td>33</td>\n",
       "      <td>1.3</td>\n",
       "      <td>0.0</td>\n",
       "      <td>0.0</td>\n",
       "    </tr>\n",
       "    <tr>\n",
       "      <th>3</th>\n",
       "      <td>8</td>\n",
       "      <td>6</td>\n",
       "      <td>mar</td>\n",
       "      <td>fri</td>\n",
       "      <td>91.7</td>\n",
       "      <td>33.3</td>\n",
       "      <td>77.5</td>\n",
       "      <td>9.0</td>\n",
       "      <td>8.3</td>\n",
       "      <td>97</td>\n",
       "      <td>4.0</td>\n",
       "      <td>0.2</td>\n",
       "      <td>0.0</td>\n",
       "    </tr>\n",
       "    <tr>\n",
       "      <th>4</th>\n",
       "      <td>8</td>\n",
       "      <td>6</td>\n",
       "      <td>mar</td>\n",
       "      <td>sun</td>\n",
       "      <td>89.3</td>\n",
       "      <td>51.3</td>\n",
       "      <td>102.2</td>\n",
       "      <td>9.6</td>\n",
       "      <td>11.4</td>\n",
       "      <td>99</td>\n",
       "      <td>1.8</td>\n",
       "      <td>0.0</td>\n",
       "      <td>0.0</td>\n",
       "    </tr>\n",
       "  </tbody>\n",
       "</table>\n",
       "</div>"
      ],
      "text/plain": [
       "   X  Y month  day  FFMC   DMC     DC  ISI  temp  RH  wind  rain  area\n",
       "0  7  5   mar  fri  86.2  26.2   94.3  5.1   8.2  51   6.7   0.0   0.0\n",
       "1  7  4   oct  tue  90.6  35.4  669.1  6.7  18.0  33   0.9   0.0   0.0\n",
       "2  7  4   oct  sat  90.6  43.7  686.9  6.7  14.6  33   1.3   0.0   0.0\n",
       "3  8  6   mar  fri  91.7  33.3   77.5  9.0   8.3  97   4.0   0.2   0.0\n",
       "4  8  6   mar  sun  89.3  51.3  102.2  9.6  11.4  99   1.8   0.0   0.0"
      ]
     },
     "execution_count": 2,
     "metadata": {},
     "output_type": "execute_result"
    }
   ],
   "source": [
    "### importing data ###\n",
    "\n",
    "df = pd.read_csv('data/forestfires.csv')\n",
    "\n",
    "df.head()"
   ]
  },
  {
   "cell_type": "markdown",
   "metadata": {},
   "source": [
    "Now that we have our data imported, let's define what each of the features mean.\n",
    "* X: where on the X-coordinate of the map the center of the fire is (map shown below)\n",
    "* Y: where on the Y-coordinate of the map the center of the fire is (map shown below)\n",
    "* month: the month of the fire\n",
    "* day: the day of the fire (sunday-saturday)\n",
    "* FFMC: fine fuel moisture code\n",
    "* DMC: duff moisture code\n",
    "* DC: drought code\n",
    "* ISI: initial spread index (related to wind and FFMC)\n",
    "* temp: temperature of weather (Celsius)\n",
    "* RH: relative humidity (%)\n",
    "* wind: wind speed (km/h)\n",
    "* rain: rainfall (mm/m^2)\n",
    "* area: total area burned (ha). Small fires were recorded to have 0 ha burnt but a fire still occurred.\n",
    "\n",
    "We should note right away that ISI might have correlation with FFMC and wind but we will investigate further later.\n",
    "![map of Portugal fire](https://i.gyazo.com/cf029585dbe4bcb9824834125844f423.png)"
   ]
  },
  {
   "cell_type": "markdown",
   "metadata": {},
   "source": [
    "First let's look for any null values."
   ]
  },
  {
   "cell_type": "code",
   "execution_count": 3,
   "metadata": {},
   "outputs": [
    {
     "data": {
      "text/plain": [
       "X        0\n",
       "Y        0\n",
       "month    0\n",
       "day      0\n",
       "FFMC     0\n",
       "DMC      0\n",
       "DC       0\n",
       "ISI      0\n",
       "temp     0\n",
       "RH       0\n",
       "wind     0\n",
       "rain     0\n",
       "area     0\n",
       "dtype: int64"
      ]
     },
     "execution_count": 3,
     "metadata": {},
     "output_type": "execute_result"
    }
   ],
   "source": [
    "### null values ###\n",
    "\n",
    "df.isna().sum()"
   ]
  },
  {
   "cell_type": "markdown",
   "metadata": {},
   "source": [
    "The dataset does not have missing values. Now let's see if the values seem to be reasonable."
   ]
  },
  {
   "cell_type": "code",
   "execution_count": 4,
   "metadata": {},
   "outputs": [
    {
     "name": "stdout",
     "output_type": "stream",
     "text": [
      "The shape of the dataset is: (517, 13)\n"
     ]
    },
    {
     "data": {
      "text/html": [
       "<div>\n",
       "<style scoped>\n",
       "    .dataframe tbody tr th:only-of-type {\n",
       "        vertical-align: middle;\n",
       "    }\n",
       "\n",
       "    .dataframe tbody tr th {\n",
       "        vertical-align: top;\n",
       "    }\n",
       "\n",
       "    .dataframe thead th {\n",
       "        text-align: right;\n",
       "    }\n",
       "</style>\n",
       "<table border=\"1\" class=\"dataframe\">\n",
       "  <thead>\n",
       "    <tr style=\"text-align: right;\">\n",
       "      <th></th>\n",
       "      <th>count</th>\n",
       "      <th>mean</th>\n",
       "      <th>std</th>\n",
       "      <th>min</th>\n",
       "      <th>25%</th>\n",
       "      <th>50%</th>\n",
       "      <th>75%</th>\n",
       "      <th>max</th>\n",
       "    </tr>\n",
       "  </thead>\n",
       "  <tbody>\n",
       "    <tr>\n",
       "      <th>X</th>\n",
       "      <td>517.0</td>\n",
       "      <td>4.669246</td>\n",
       "      <td>2.313778</td>\n",
       "      <td>1.0</td>\n",
       "      <td>3.0</td>\n",
       "      <td>4.00</td>\n",
       "      <td>7.00</td>\n",
       "      <td>9.00</td>\n",
       "    </tr>\n",
       "    <tr>\n",
       "      <th>Y</th>\n",
       "      <td>517.0</td>\n",
       "      <td>4.299807</td>\n",
       "      <td>1.229900</td>\n",
       "      <td>2.0</td>\n",
       "      <td>4.0</td>\n",
       "      <td>4.00</td>\n",
       "      <td>5.00</td>\n",
       "      <td>9.00</td>\n",
       "    </tr>\n",
       "    <tr>\n",
       "      <th>FFMC</th>\n",
       "      <td>517.0</td>\n",
       "      <td>90.644681</td>\n",
       "      <td>5.520111</td>\n",
       "      <td>18.7</td>\n",
       "      <td>90.2</td>\n",
       "      <td>91.60</td>\n",
       "      <td>92.90</td>\n",
       "      <td>96.20</td>\n",
       "    </tr>\n",
       "    <tr>\n",
       "      <th>DMC</th>\n",
       "      <td>517.0</td>\n",
       "      <td>110.872340</td>\n",
       "      <td>64.046482</td>\n",
       "      <td>1.1</td>\n",
       "      <td>68.6</td>\n",
       "      <td>108.30</td>\n",
       "      <td>142.40</td>\n",
       "      <td>291.30</td>\n",
       "    </tr>\n",
       "    <tr>\n",
       "      <th>DC</th>\n",
       "      <td>517.0</td>\n",
       "      <td>547.940039</td>\n",
       "      <td>248.066192</td>\n",
       "      <td>7.9</td>\n",
       "      <td>437.7</td>\n",
       "      <td>664.20</td>\n",
       "      <td>713.90</td>\n",
       "      <td>860.60</td>\n",
       "    </tr>\n",
       "    <tr>\n",
       "      <th>ISI</th>\n",
       "      <td>517.0</td>\n",
       "      <td>9.021663</td>\n",
       "      <td>4.559477</td>\n",
       "      <td>0.0</td>\n",
       "      <td>6.5</td>\n",
       "      <td>8.40</td>\n",
       "      <td>10.80</td>\n",
       "      <td>56.10</td>\n",
       "    </tr>\n",
       "    <tr>\n",
       "      <th>temp</th>\n",
       "      <td>517.0</td>\n",
       "      <td>18.889168</td>\n",
       "      <td>5.806625</td>\n",
       "      <td>2.2</td>\n",
       "      <td>15.5</td>\n",
       "      <td>19.30</td>\n",
       "      <td>22.80</td>\n",
       "      <td>33.30</td>\n",
       "    </tr>\n",
       "    <tr>\n",
       "      <th>RH</th>\n",
       "      <td>517.0</td>\n",
       "      <td>44.288201</td>\n",
       "      <td>16.317469</td>\n",
       "      <td>15.0</td>\n",
       "      <td>33.0</td>\n",
       "      <td>42.00</td>\n",
       "      <td>53.00</td>\n",
       "      <td>100.00</td>\n",
       "    </tr>\n",
       "    <tr>\n",
       "      <th>wind</th>\n",
       "      <td>517.0</td>\n",
       "      <td>4.017602</td>\n",
       "      <td>1.791653</td>\n",
       "      <td>0.4</td>\n",
       "      <td>2.7</td>\n",
       "      <td>4.00</td>\n",
       "      <td>4.90</td>\n",
       "      <td>9.40</td>\n",
       "    </tr>\n",
       "    <tr>\n",
       "      <th>rain</th>\n",
       "      <td>517.0</td>\n",
       "      <td>0.021663</td>\n",
       "      <td>0.295959</td>\n",
       "      <td>0.0</td>\n",
       "      <td>0.0</td>\n",
       "      <td>0.00</td>\n",
       "      <td>0.00</td>\n",
       "      <td>6.40</td>\n",
       "    </tr>\n",
       "    <tr>\n",
       "      <th>area</th>\n",
       "      <td>517.0</td>\n",
       "      <td>12.847292</td>\n",
       "      <td>63.655818</td>\n",
       "      <td>0.0</td>\n",
       "      <td>0.0</td>\n",
       "      <td>0.52</td>\n",
       "      <td>6.57</td>\n",
       "      <td>1090.84</td>\n",
       "    </tr>\n",
       "  </tbody>\n",
       "</table>\n",
       "</div>"
      ],
      "text/plain": [
       "      count        mean         std   min    25%     50%     75%      max\n",
       "X     517.0    4.669246    2.313778   1.0    3.0    4.00    7.00     9.00\n",
       "Y     517.0    4.299807    1.229900   2.0    4.0    4.00    5.00     9.00\n",
       "FFMC  517.0   90.644681    5.520111  18.7   90.2   91.60   92.90    96.20\n",
       "DMC   517.0  110.872340   64.046482   1.1   68.6  108.30  142.40   291.30\n",
       "DC    517.0  547.940039  248.066192   7.9  437.7  664.20  713.90   860.60\n",
       "ISI   517.0    9.021663    4.559477   0.0    6.5    8.40   10.80    56.10\n",
       "temp  517.0   18.889168    5.806625   2.2   15.5   19.30   22.80    33.30\n",
       "RH    517.0   44.288201   16.317469  15.0   33.0   42.00   53.00   100.00\n",
       "wind  517.0    4.017602    1.791653   0.4    2.7    4.00    4.90     9.40\n",
       "rain  517.0    0.021663    0.295959   0.0    0.0    0.00    0.00     6.40\n",
       "area  517.0   12.847292   63.655818   0.0    0.0    0.52    6.57  1090.84"
      ]
     },
     "execution_count": 4,
     "metadata": {},
     "output_type": "execute_result"
    }
   ],
   "source": [
    "### overall data ###\n",
    "\n",
    "print('The shape of the dataset is:', df.shape)\n",
    "\n",
    "df.describe().transpose()"
   ]
  },
  {
   "cell_type": "markdown",
   "metadata": {},
   "source": [
    "We see that no feature seems to have ranges outside of the ordinary. For example, RH is in % so 100 should be the highest possible number whereas 0 should be the lowest possible. Now let's start some cleanup. First we will look at months."
   ]
  },
  {
   "cell_type": "code",
   "execution_count": 5,
   "metadata": {},
   "outputs": [
    {
     "data": {
      "text/plain": [
       "Text(0.5, 1.0, 'Count plot of months')"
      ]
     },
     "execution_count": 5,
     "metadata": {},
     "output_type": "execute_result"
    },
    {
     "data": {
      "image/png": "[encoded data removed]",
      "text/plain": [
       "<Figure size 432x288 with 1 Axes>"
      ]
     },
     "metadata": {
      "needs_background": "light"
     },
     "output_type": "display_data"
    }
   ],
   "source": [
    "### exploring months ###\n",
    "\n",
    "# visualizing months\n",
    "sns.countplot(df['month'])\n",
    "plt.title('Count plot of months')"
   ]
  },
  {
   "cell_type": "markdown",
   "metadata": {},
   "source": [
    "We see that the data is largely skewed towards August and September, which are months in the summer of Portugal. Due to the size of our dataset (517 rows), it is unlikely that we will gain much information by encoding all 12 months with dummy variables... especially with such a large skew. Instead, we are going to separate them into Portugal's seasons of Spring, Summer, Autumn, and Winter. We will keep careful mind that the season has a good chance of being correlated with temperature and rain but we need to reduce the amount of features we have."
   ]
  },
  {
   "cell_type": "code",
   "execution_count": 6,
   "metadata": {},
   "outputs": [
    {
     "data": {
      "text/plain": [
       "Text(0.5, 1.0, 'Count plot of seasons')"
      ]
     },
     "execution_count": 6,
     "metadata": {},
     "output_type": "execute_result"
    },
    {
     "data": {
      "image/png": "[encoded data removed]",
      "text/plain": [
       "<Figure size 432x288 with 1 Axes>"
      ]
     },
     "metadata": {
      "needs_background": "light"
     },
     "output_type": "display_data"
    }
   ],
   "source": [
    "### months to seasons ###\n",
    "\n",
    "# dictionary of months mapping to seasons\n",
    "season_dict = {'dec' : 'winter', 'jan' : 'winter', 'feb' : 'winter',\n",
    "              'mar' : 'spring', 'apr' : 'spring', 'may' : 'spring',\n",
    "              'jun' : 'summer', 'jul' : 'summer', 'aug' : 'summer', 'sep' : 'summer',\n",
    "              'oct' : 'autumn', 'nov' : 'autumn'}\n",
    "\n",
    "# applying dictionary\n",
    "df = df.replace({'month' : season_dict})\n",
    "\n",
    "# renaming column\n",
    "df = df.rename(columns = {'month' : 'season'})\n",
    "\n",
    "# visualizing data\n",
    "sns.countplot(df['season'])\n",
    "plt.title('Count plot of seasons')"
   ]
  },
  {
   "cell_type": "markdown",
   "metadata": {},
   "source": [
    "It is apparent that Summer has way too large of a skew. In order to combat this, we will conver the column into 'summer' or 'not summer'."
   ]
  },
  {
   "cell_type": "code",
   "execution_count": 7,
   "metadata": {},
   "outputs": [
    {
     "data": {
      "text/plain": [
       "Text(0.5, 1.0, 'Count plot of summer vs other seasons')"
      ]
     },
     "execution_count": 7,
     "metadata": {},
     "output_type": "execute_result"
    },
    {
     "data": {
      "image/png": "[encoded data removed]",
      "text/plain": [
       "<Figure size 432x288 with 1 Axes>"
      ]
     },
     "metadata": {
      "needs_background": "light"
     },
     "output_type": "display_data"
    }
   ],
   "source": [
    "### converting season to summer or not summer ###\n",
    "\n",
    "# converting to is summer\n",
    "df['season'] = (df['season'] == 'summer')\n",
    "\n",
    "# renaming column\n",
    "df = df.rename(columns = {'season' : 'is_summer'})\n",
    "\n",
    "# visualizing data\n",
    "sns.countplot(df['is_summer'])\n",
    "plt.title('Count plot of summer vs other seasons')"
   ]
  },
  {
   "cell_type": "markdown",
   "metadata": {},
   "source": [
    "The distribution is still skewed but it is better than before. Now we can move onto days."
   ]
  },
  {
   "cell_type": "code",
   "execution_count": 8,
   "metadata": {},
   "outputs": [
    {
     "data": {
      "text/plain": [
       "Text(0.5, 1.0, 'Count plot of days')"
      ]
     },
     "execution_count": 8,
     "metadata": {},
     "output_type": "execute_result"
    },
    {
     "data": {
      "image/png": "[encoded data removed]",
      "text/plain": [
       "<Figure size 432x288 with 1 Axes>"
      ]
     },
     "metadata": {
      "needs_background": "light"
     },
     "output_type": "display_data"
    }
   ],
   "source": [
    "### exploring days ###\n",
    "\n",
    "# visualizing days\n",
    "sns.countplot(df['day'])\n",
    "plt.title('Count plot of days')"
   ]
  },
  {
   "cell_type": "markdown",
   "metadata": {},
   "source": [
    "The distribution for days seems pretty even. We will, instead of encoding 7 variables, separate these into weekend or not weekend. The reasoning behind this is that the amount of area burned in a fire is also related to how the fire fighters responded to the flame. During the weekend, the amount of firefighters or the response in general may be different compared to during the weekday. "
   ]
  },
  {
   "cell_type": "code",
   "execution_count": 9,
   "metadata": {},
   "outputs": [
    {
     "data": {
      "text/plain": [
       "Text(0.5, 1.0, 'Count plot of weekend vs weekday')"
      ]
     },
     "execution_count": 9,
     "metadata": {},
     "output_type": "execute_result"
    },
    {
     "data": {
      "image/png": "[encoded data removed]",
      "text/plain": [
       "<Figure size 432x288 with 1 Axes>"
      ]
     },
     "metadata": {
      "needs_background": "light"
     },
     "output_type": "display_data"
    }
   ],
   "source": [
    "### turning days into is_weekend ###\n",
    "\n",
    "# converting to is weekend\n",
    "df['day'] = ((df['day'] == 'sun') | (df['day'] == 'sat'))\n",
    "\n",
    "# renaming column\n",
    "df = df.rename(columns = {'day' : 'is_weekend'})\n",
    "\n",
    "# visualizing\n",
    "sns.countplot(df['is_weekend'])\n",
    "plt.title('Count plot of weekend vs weekday')"
   ]
  },
  {
   "cell_type": "markdown",
   "metadata": {},
   "source": [
    "The skew is not too large so we are happy with this conversion. Now let's look at the distributions of each column to see if there is anything odd."
   ]
  },
  {
   "cell_type": "code",
   "execution_count": 10,
   "metadata": {},
   "outputs": [
    {
     "data": {
      "image/png": "[encoded data removed]",
      "text/plain": [
       "<Figure size 720x3600 with 11 Axes>"
      ]
     },
     "metadata": {
      "needs_background": "light"
     },
     "output_type": "display_data"
    }
   ],
   "source": [
    "### visualizing distributions ###\n",
    "\n",
    "# subplots\n",
    "fig, ax = plt.subplots(11, figsize = (10,50))\n",
    "\n",
    "# initial index\n",
    "index = 0\n",
    "unused_column = ['X', 'Y', 'FFMC', 'DMC', 'DC', 'ISI', 'temp', 'RH', 'wind', 'rain', 'area']\n",
    "\n",
    "# visualizing\n",
    "for column in unused_column:\n",
    "    if column != 'is_summer':\n",
    "        ax[index].hist(df[column])\n",
    "        ax[index].title.set_text('histogram of ' + column)\n",
    "        index += 1\n",
    "\n",
    "# making plots visible\n",
    "plt.tight_layout()"
   ]
  },
  {
   "cell_type": "markdown",
   "metadata": {},
   "source": [
    "We see that most of the distributions look relatively normally distributed. However, X and Y have no patterns for distribution which makes sense since we do not know the geography of the natural park. This means that we do not know where the trees are for fires so the distribution is not normal. We, however, can not do anything about this other than drop the features so we will keep them for now and see if they become problematic in the future. The distributions of rain and area are too skewed and have large outliers so we will scale it to even out the distribution."
   ]
  },
  {
   "cell_type": "code",
   "execution_count": 11,
   "metadata": {},
   "outputs": [
    {
     "data": {
      "image/png": "[encoded data removed]",
      "text/plain": [
       "<Figure size 720x1080 with 2 Axes>"
      ]
     },
     "metadata": {
      "needs_background": "light"
     },
     "output_type": "display_data"
    }
   ],
   "source": [
    "### scaling area and rain ###\n",
    "\n",
    "# natural logarithm scaling (+1 to prevent errors at 0)\n",
    "df.loc[:, ['rain', 'area']] = df.loc[:, ['rain', 'area']].apply(lambda x: np.log(x + 1), axis = 1)\n",
    "\n",
    "# visualizing\n",
    "fig, ax = plt.subplots(2, figsize = (10, 15))\n",
    "\n",
    "ax[0].hist(df['rain'])\n",
    "ax[0].title.set_text('histogram of rain')\n",
    "\n",
    "ax[1].hist(df['area'])\n",
    "ax[1].title.set_text('histogram of area')"
   ]
  },
  {
   "cell_type": "markdown",
   "metadata": {},
   "source": [
    "The distribution for rain is not good but the distribution for area is highly improved. Now we scale the entire dataset. Note that we plan on testing a neural network on the dataset so we will scale the area as a preventative measure against an exploding gradient. First we will split the data into train and test splits so that we can scale the train set and then scale the test set based on the train set. Then we will scale everything."
   ]
  },
  {
   "cell_type": "code",
   "execution_count": 12,
   "metadata": {},
   "outputs": [],
   "source": [
    "### train test split ###\n",
    "\n",
    "# separating features from target\n",
    "# normally we use X and y but since X and Y are variables, we use the names features and targets to prevent potential conflicts\n",
    "features = df.drop(['area'], axis = 1)\n",
    "target = df['area'].values.reshape(-1, 1)\n",
    "\n",
    "# splitting into train test set\n",
    "features_train, features_test, target_train, target_test = train_test_split(features, target, \n",
    "                                                                            test_size = 0.5, random_state = 42)"
   ]
  },
  {
   "cell_type": "code",
   "execution_count": 13,
   "metadata": {},
   "outputs": [],
   "source": [
    "### scaling data ###\n",
    "\n",
    "# fitting scaler\n",
    "sc_feature = StandardScaler()\n",
    "sc_target = StandardScaler()\n",
    "\n",
    "# transforming features\n",
    "features_test = sc_feature.fit_transform(features_test)\n",
    "features_train = sc_feature.transform(features_train)\n",
    "\n",
    "# transforming target\n",
    "target_test = sc_target.fit_transform(target_test)\n",
    "target_train = sc_target.transform(target_train)"
   ]
  },
  {
   "cell_type": "markdown",
   "metadata": {},
   "source": [
    "Finally, we can export these as csv files and start modelling."
   ]
  },
  {
   "cell_type": "code",
   "execution_count": 14,
   "metadata": {},
   "outputs": [
    {
     "data": {
      "text/html": [
       "<div>\n",
       "<style scoped>\n",
       "    .dataframe tbody tr th:only-of-type {\n",
       "        vertical-align: middle;\n",
       "    }\n",
       "\n",
       "    .dataframe tbody tr th {\n",
       "        vertical-align: top;\n",
       "    }\n",
       "\n",
       "    .dataframe thead th {\n",
       "        text-align: right;\n",
       "    }\n",
       "</style>\n",
       "<table border=\"1\" class=\"dataframe\">\n",
       "  <thead>\n",
       "    <tr style=\"text-align: right;\">\n",
       "      <th></th>\n",
       "      <th>X</th>\n",
       "      <th>Y</th>\n",
       "      <th>is_summer</th>\n",
       "      <th>is_weekend</th>\n",
       "      <th>FFMC</th>\n",
       "      <th>DMC</th>\n",
       "      <th>DC</th>\n",
       "      <th>ISI</th>\n",
       "      <th>temp</th>\n",
       "      <th>RH</th>\n",
       "      <th>wind</th>\n",
       "      <th>rain</th>\n",
       "    </tr>\n",
       "  </thead>\n",
       "  <tbody>\n",
       "    <tr>\n",
       "      <th>0</th>\n",
       "      <td>0.598790</td>\n",
       "      <td>0.576522</td>\n",
       "      <td>-1.821172</td>\n",
       "      <td>1.418319</td>\n",
       "      <td>-1.139945</td>\n",
       "      <td>-1.305419</td>\n",
       "      <td>-1.748511</td>\n",
       "      <td>-1.149368</td>\n",
       "      <td>-1.234987</td>\n",
       "      <td>3.106552</td>\n",
       "      <td>0.400935</td>\n",
       "      <td>-0.119172</td>\n",
       "    </tr>\n",
       "    <tr>\n",
       "      <th>1</th>\n",
       "      <td>1.023686</td>\n",
       "      <td>0.576522</td>\n",
       "      <td>0.549097</td>\n",
       "      <td>-0.705060</td>\n",
       "      <td>1.072840</td>\n",
       "      <td>1.240626</td>\n",
       "      <td>0.527797</td>\n",
       "      <td>0.923229</td>\n",
       "      <td>0.433913</td>\n",
       "      <td>1.334447</td>\n",
       "      <td>0.400935</td>\n",
       "      <td>8.263105</td>\n",
       "    </tr>\n",
       "    <tr>\n",
       "      <th>2</th>\n",
       "      <td>1.448581</td>\n",
       "      <td>1.388040</td>\n",
       "      <td>0.549097</td>\n",
       "      <td>-0.705060</td>\n",
       "      <td>0.268190</td>\n",
       "      <td>1.671342</td>\n",
       "      <td>0.533514</td>\n",
       "      <td>-0.247405</td>\n",
       "      <td>1.065826</td>\n",
       "      <td>-0.865409</td>\n",
       "      <td>-1.357179</td>\n",
       "      <td>-0.119172</td>\n",
       "    </tr>\n",
       "    <tr>\n",
       "      <th>3</th>\n",
       "      <td>0.173895</td>\n",
       "      <td>-0.234995</td>\n",
       "      <td>0.549097</td>\n",
       "      <td>-0.705060</td>\n",
       "      <td>0.710747</td>\n",
       "      <td>-0.355849</td>\n",
       "      <td>0.613965</td>\n",
       "      <td>1.230280</td>\n",
       "      <td>0.190869</td>\n",
       "      <td>0.234519</td>\n",
       "      <td>0.400935</td>\n",
       "      <td>-0.119172</td>\n",
       "    </tr>\n",
       "    <tr>\n",
       "      <th>4</th>\n",
       "      <td>-1.100790</td>\n",
       "      <td>-0.234995</td>\n",
       "      <td>0.549097</td>\n",
       "      <td>-0.705060</td>\n",
       "      <td>0.750980</td>\n",
       "      <td>0.547157</td>\n",
       "      <td>0.600896</td>\n",
       "      <td>2.017099</td>\n",
       "      <td>1.665333</td>\n",
       "      <td>-0.804301</td>\n",
       "      <td>0.400935</td>\n",
       "      <td>-0.119172</td>\n",
       "    </tr>\n",
       "  </tbody>\n",
       "</table>\n",
       "</div>"
      ],
      "text/plain": [
       "          X         Y  is_summer  is_weekend      FFMC       DMC        DC  \\\n",
       "0  0.598790  0.576522  -1.821172    1.418319 -1.139945 -1.305419 -1.748511   \n",
       "1  1.023686  0.576522   0.549097   -0.705060  1.072840  1.240626  0.527797   \n",
       "2  1.448581  1.388040   0.549097   -0.705060  0.268190  1.671342  0.533514   \n",
       "3  0.173895 -0.234995   0.549097   -0.705060  0.710747 -0.355849  0.613965   \n",
       "4 -1.100790 -0.234995   0.549097   -0.705060  0.750980  0.547157  0.600896   \n",
       "\n",
       "        ISI      temp        RH      wind      rain  \n",
       "0 -1.149368 -1.234987  3.106552  0.400935 -0.119172  \n",
       "1  0.923229  0.433913  1.334447  0.400935  8.263105  \n",
       "2 -0.247405  1.065826 -0.865409 -1.357179 -0.119172  \n",
       "3  1.230280  0.190869  0.234519  0.400935 -0.119172  \n",
       "4  2.017099  1.665333 -0.804301  0.400935 -0.119172  "
      ]
     },
     "execution_count": 14,
     "metadata": {},
     "output_type": "execute_result"
    }
   ],
   "source": [
    "### converting everything to dataframe for csv storage ###\n",
    "\n",
    "# features\n",
    "features_test = pd.DataFrame(features_test, columns = features.columns)\n",
    "features_train = pd.DataFrame(features_train, columns = features.columns)\n",
    "\n",
    "# target\n",
    "target_test = pd.DataFrame(target_test, columns = ['area'])\n",
    "target_train = pd.DataFrame(target_train, columns = ['area'])\n",
    "\n",
    "# checking to see if everything is in order\n",
    "features_test.head()"
   ]
  },
  {
   "cell_type": "code",
   "execution_count": 15,
   "metadata": {},
   "outputs": [],
   "source": [
    "### saving everything to csv ###\n",
    "\n",
    "# features\n",
    "features_test.to_csv('data/features_test.csv')\n",
    "features_train.to_csv('data/features_train.csv')\n",
    "\n",
    "# target\n",
    "target_test.to_csv('data/target_test.csv')\n",
    "target_train.to_csv('data/target_train.csv')"
   ]
  },
  {
   "cell_type": "markdown",
   "metadata": {},
   "source": [
    "Now that we are done, we can take the preprocessed data and start modelling them."
   ]
  }
 ],
 "metadata": {
  "kernelspec": {
   "display_name": "Python 3",
   "language": "python",
   "name": "python3"
  },
  "language_info": {
   "codemirror_mode": {
    "name": "ipython",
    "version": 3
   },
   "file_extension": ".py",
   "mimetype": "text/x-python",
   "name": "python",
   "nbconvert_exporter": "python",
   "pygments_lexer": "ipython3",
   "version": "3.7.4"
  }
 },
 "nbformat": 4,
 "nbformat_minor": 4
}
